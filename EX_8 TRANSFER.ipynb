{
 "cells": [
  {
   "cell_type": "code",
   "execution_count": 30,
   "id": "d203d0ee-c9bf-46b7-8b6c-44ad115bce29",
   "metadata": {},
   "outputs": [],
   "source": [
    "import tensorflow as tf\n",
    "from tensorflow.keras.applications import VGG16\n",
    "from tensorflow.keras.models import Model\n",
    "from tensorflow.keras.layers import Dense, GlobalAveragePooling2D\n",
    "from tensorflow.keras.preprocessing.image import ImageDataGenerator\n",
    "from tensorflow.keras.utils import to_categorical\n",
    "\n",
    "IMAGE_SIZE = [224, 224]\n",
    "# Load the pre-trained VGG16 model without the top classification layers (include_top=False)\n",
    "base_model = VGG16(input_shape=IMAGE_SIZE+[3],weights='imagenet', include_top=False)\n",
    "#folders = glob('Imageclassification/data/*')\n",
    "x = base_model.output\n",
    "x = GlobalAveragePooling2D()(x) \n",
    "x = Dense(1024, activation='relu')(x) \n",
    "predictions = Dense(1, activation='softmax')(x) \n",
    "\n",
    "model = Model(inputs=base_model.input, outputs=predictions)\n",
    "# Freeze the layers of the pre-trained model (optional)\n",
    "for layer in base_model.layers:\n",
    "    layer.trainable = False\n",
    "# Compile the model\n",
    "#model.compile(optimizer='adam', loss='categorical_crossentropy', metrics=['accuracy'])\n",
    "model.compile('adam', loss=tf.losses.BinaryCrossentropy(), metrics=['accuracy'])"
   ]
  },
  {
   "cell_type": "code",
   "execution_count": 31,
   "id": "69d51f51-ea07-4816-9f24-36406c175b72",
   "metadata": {},
   "outputs": [
    {
     "name": "stdout",
     "output_type": "stream",
     "text": [
      "Found 153 images belonging to 2 classes.\n"
     ]
    },
    {
     "name": "stderr",
     "output_type": "stream",
     "text": [
      "C:\\Users\\mu100\\AppData\\Local\\Temp\\ipykernel_28164\\4272643144.py:16: UserWarning: `Model.fit_generator` is deprecated and will be removed in a future version. Please use `Model.fit`, which supports generators.\n",
      "  model.fit_generator(\n"
     ]
    },
    {
     "name": "stdout",
     "output_type": "stream",
     "text": [
      "Epoch 1/10\n",
      "5/5 [==============================] - 17s 3s/step - loss: 0.6693 - accuracy: 0.4641\n",
      "Epoch 2/10\n",
      "5/5 [==============================] - 15s 3s/step - loss: 0.5025 - accuracy: 0.4641\n",
      "Epoch 3/10\n",
      "5/5 [==============================] - 16s 3s/step - loss: 0.4554 - accuracy: 0.4641\n",
      "Epoch 4/10\n",
      "5/5 [==============================] - 16s 3s/step - loss: 0.3888 - accuracy: 0.4641\n",
      "Epoch 5/10\n",
      "5/5 [==============================] - 16s 3s/step - loss: 0.3601 - accuracy: 0.4641\n",
      "Epoch 6/10\n",
      "5/5 [==============================] - 16s 3s/step - loss: 0.3284 - accuracy: 0.4641\n",
      "Epoch 7/10\n",
      "5/5 [==============================] - 16s 3s/step - loss: 0.3164 - accuracy: 0.4641\n",
      "Epoch 8/10\n",
      "5/5 [==============================] - 17s 3s/step - loss: 0.2823 - accuracy: 0.4641\n",
      "Epoch 9/10\n",
      "5/5 [==============================] - 16s 3s/step - loss: 0.2744 - accuracy: 0.4641\n",
      "Epoch 10/10\n",
      "5/5 [==============================] - 17s 3s/step - loss: 0.2515 - accuracy: 0.4641\n"
     ]
    },
    {
     "name": "stderr",
     "output_type": "stream",
     "text": [
      "C:\\Users\\mu100\\anaconda3\\lib\\site-packages\\keras\\src\\engine\\training.py:3000: UserWarning: You are saving your model as an HDF5 file via `model.save()`. This file format is considered legacy. We recommend using instead the native Keras format, e.g. `model.save('my_model.keras')`.\n",
      "  saving_api.save_model(\n"
     ]
    }
   ],
   "source": [
    "train_datagen = ImageDataGenerator(\n",
    " rescale=1.0/255.0, \n",
    " shear_range=0.2,\n",
    " zoom_range=0.2,\n",
    " horizontal_flip=True\n",
    ")\n",
    "train_generator = train_datagen.flow_from_directory(\n",
    " r'C:\\Users\\mu100\\Imageclassification\\data', \n",
    " target_size=(224, 224),\n",
    " batch_size=32,\n",
    " class_mode='binary' \n",
    ")\n",
    "\n",
    "\n",
    "\n",
    "model.fit_generator(\n",
    "    train_generator,\n",
    "    steps_per_epoch=len(train_generator),\n",
    "    epochs=10\n",
    ")\n",
    "\n",
    "model.save('my_transfer_learning_model.h5')"
   ]
  },
  {
   "cell_type": "code",
   "execution_count": null,
   "id": "f80867b7-8340-47a2-b02a-04f4fd7fcd03",
   "metadata": {},
   "outputs": [],
   "source": []
  }
 ],
 "metadata": {
  "kernelspec": {
   "display_name": "Python 3 (ipykernel)",
   "language": "python",
   "name": "python3"
  },
  "language_info": {
   "codemirror_mode": {
    "name": "ipython",
    "version": 3
   },
   "file_extension": ".py",
   "mimetype": "text/x-python",
   "name": "python",
   "nbconvert_exporter": "python",
   "pygments_lexer": "ipython3",
   "version": "3.9.13"
  }
 },
 "nbformat": 4,
 "nbformat_minor": 5
}
